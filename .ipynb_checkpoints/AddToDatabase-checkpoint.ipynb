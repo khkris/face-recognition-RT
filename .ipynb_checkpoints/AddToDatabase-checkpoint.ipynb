{
 "cells": [
  {
   "cell_type": "code",
   "execution_count": 14,
   "metadata": {},
   "outputs": [
    {
     "name": "stdout",
     "output_type": "stream",
     "text": [
      "Press Q to Add to Database when the web-cam opens.\n",
      "Press any key to open web-cam\n",
      "s\n",
      "Enter the name of the individual\n",
      "Kris\n",
      "Press any key to exit\n",
      "\n"
     ]
    },
    {
     "data": {
      "text/plain": [
       "''"
      ]
     },
     "execution_count": 14,
     "metadata": {},
     "output_type": "execute_result"
    }
   ],
   "source": [
    "import numpy as np\n",
    "import cv2\n",
    "import pickle\n",
    "from FR_utils import *\n",
    "\n",
    "print(\"Press Q to Add to Database when the web-cam opens.\")\n",
    "print(\"Press any key to open web-cam\")\n",
    "input()\n",
    "\n",
    "cap = cv2.VideoCapture(0)\n",
    "haar_face_cascade = cv2.CascadeClassifier('C:/Users/KIIT/AppData/Local/Programs/Python/Python36/Lib/site-packages/cv2/data/haarcascade_frontalface_default.xml')\n",
    "\n",
    "while(True):\n",
    "    # Capture frame-by-frame\n",
    "    ret, frame = cap.read()\n",
    "    frame = cv2.flip( frame, 1)\n",
    "    faces = haar_face_cascade.detectMultiScale(frame, 1.3, 5)\n",
    "\n",
    "    for (x,y,w,h) in faces:\n",
    "\n",
    "            if w > 80:\n",
    "                frame = cv2.rectangle(frame,(x,y),(x+w,y+h),(100,100,100),2) #draw rectangle to main image\n",
    "\n",
    "                detected_face = frame[int(y):int(y+h), int(x):int(x+w)] #crop detected face\n",
    "                detected_face = cv2.resize(detected_face, (224, 224)) #resize to 224x224\n",
    "\n",
    "        # Display the resulting frame\n",
    "    cv2.imshow('frame',frame)\n",
    "    if cv2.waitKey(1) & 0xFF == ord('q'):\n",
    "        break\n",
    "\n",
    "# When everything done, release the capture\n",
    "cap.release()\n",
    "cv2.destroyAllWindows()\n",
    "\n",
    "img = img_to_array(detected_face)\n",
    "img = np.expand_dims(img, axis=0)\n",
    "img = preprocess_input(img)\n",
    "\n",
    "FRmodel = FaceModelKK()\n",
    "print(\"Enter the name of the individual\")\n",
    "name = input()\n",
    "\n",
    "pickle_out = open(\"DB.pickle\",\"wb\")\n",
    "\n",
    "add_to_database(name, img, FRmodel)\n",
    "\n",
    "pickle.dump(Database, pickle_out)\n",
    "pickle_out.close()\n",
    "\n",
    "print(\"Press any key to exit\")\n",
    "input()\n"
   ]
  },
  {
   "cell_type": "code",
   "execution_count": 18,
   "metadata": {},
   "outputs": [
    {
     "data": {
      "text/plain": [
       "{'Kris': array([ 1.9962683 , -0.08417042,  0.7028693 , ..., -2.7745068 ,\n",
       "         2.6666594 ,  2.6111796 ], dtype=float32)}"
      ]
     },
     "execution_count": 18,
     "metadata": {},
     "output_type": "execute_result"
    }
   ],
   "source": [
    "Database"
   ]
  },
  {
   "cell_type": "code",
   "execution_count": null,
   "metadata": {},
   "outputs": [],
   "source": []
  }
 ],
 "metadata": {
  "kernelspec": {
   "display_name": "Python 3",
   "language": "python",
   "name": "python3"
  },
  "language_info": {
   "codemirror_mode": {
    "name": "ipython",
    "version": 3
   },
   "file_extension": ".py",
   "mimetype": "text/x-python",
   "name": "python",
   "nbconvert_exporter": "python",
   "pygments_lexer": "ipython3",
   "version": "3.6.3"
  }
 },
 "nbformat": 4,
 "nbformat_minor": 2
}
