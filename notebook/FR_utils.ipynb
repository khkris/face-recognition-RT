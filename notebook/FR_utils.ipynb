{
 "cells": [
  {
   "cell_type": "code",
   "execution_count": 2,
   "metadata": {},
   "outputs": [
    {
     "name": "stderr",
     "output_type": "stream",
     "text": [
      "Using TensorFlow backend.\n"
     ]
    }
   ],
   "source": [
    "from ModelKK import *\n",
    "from DATABASE import Database\n",
    "\n",
    "import numpy as np\n",
    "from keras.models import Sequential\n",
    "from keras.layers import *\n",
    "from keras.models import Model\n",
    "from keras.preprocessing.image import *\n",
    "from keras.applications.imagenet_utils import preprocess_input\n",
    "import tensorflow as tf"
   ]
  },
  {
   "cell_type": "code",
   "execution_count": 3,
   "metadata": {},
   "outputs": [],
   "source": [
    "def img_to_encoding(img, model):\n",
    "    \n",
    "    #Returns the encoding of the input image.\n",
    "    encoder = Model(inputs=model.layers[0].input, outputs=model.layers[-2].output)\n",
    "    encoding = encoder.predict(img)[0,0:2000]\n",
    "    \n",
    "    return encoding"
   ]
  },
  {
   "cell_type": "code",
   "execution_count": 4,
   "metadata": {},
   "outputs": [],
   "source": [
    "def img_preprocess(img_path):\n",
    "    \n",
    "    #Pre-processes the image to be of size 224 x 224 x 3\n",
    "    #and to be fed to the model.\n",
    "    img = load_img(img_path, target_size=(224, 224))\n",
    "    img = img_to_array(img)\n",
    "    img = np.expand_dims(img, axis=0)\n",
    "    img = preprocess_input(img)\n",
    "    return img"
   ]
  },
  {
   "cell_type": "code",
   "execution_count": 5,
   "metadata": {},
   "outputs": [],
   "source": [
    "def recognition(img, Database, model):\n",
    "    \n",
    "    encoding = img_to_encoding(img, model)\n",
    "    \n",
    "    min_dist = 100\n",
    "    \n",
    "    for (name, DB_encoding) in Database.items():\n",
    "        \n",
    "        print(DB_encoding)\n",
    "        \n",
    "        \n",
    "        dist = np.linalg.norm( DB_encoding - encoding )\n",
    "\n",
    "        if dist < min_dist:\n",
    "            min_dist = dist\n",
    "            identity = name\n",
    "            \n",
    "    if min_dist > 0.7:\n",
    "        print(\"Unknown\")\n",
    "    else:\n",
    "        print(identity)\n",
    "        imshow(img)\n",
    "        \n",
    "    return min_dist, identity\n",
    "    "
   ]
  },
  {
   "cell_type": "code",
   "execution_count": 6,
   "metadata": {},
   "outputs": [],
   "source": [
    "def add_to_database(name, img, model):\n",
    "    \n",
    "    Database[str(name)] = img_to_encoding(img, model)"
   ]
  }
 ],
 "metadata": {
  "kernelspec": {
   "display_name": "Python 3",
   "language": "python",
   "name": "python3"
  },
  "language_info": {
   "codemirror_mode": {
    "name": "ipython",
    "version": 3
   },
   "file_extension": ".py",
   "mimetype": "text/x-python",
   "name": "python",
   "nbconvert_exporter": "python",
   "pygments_lexer": "ipython3",
   "version": "3.6.3"
  }
 },
 "nbformat": 4,
 "nbformat_minor": 2
}
