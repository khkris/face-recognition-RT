{
 "cells": [
  {
   "cell_type": "code",
   "execution_count": 10,
   "metadata": {},
   "outputs": [
    {
     "name": "stdout",
     "output_type": "stream",
     "text": [
      "Press any key to exit\n",
      "k\n"
     ]
    },
    {
     "data": {
      "text/plain": [
       "'k'"
      ]
     },
     "execution_count": 10,
     "metadata": {},
     "output_type": "execute_result"
    }
   ],
   "source": [
    "import numpy as np\n",
    "import cv2\n",
    "import pickle\n",
    "from FR_utils import *\n",
    "\n",
    "cap = cv2.VideoCapture(0)\n",
    "haar_face_cascade = cv2.CascadeClassifier('C:/Users/KIIT/AppData/Local/Programs/Python/Python36/Lib/site-packages/cv2/data/haarcascade_frontalface_default.xml')\n",
    "FRmodel = FaceModelKK()\n",
    "\n",
    "pickle_in = open(\"DB.pickle\", \"rb\")\n",
    "Database = pickle.load(pickle_in)\n",
    "\n",
    "while(True):\n",
    "    # Capture frame-by-frame\n",
    "    ret, frame = cap.read()\n",
    "    frame = cv2.flip( frame, 1)\n",
    "    faces = haar_face_cascade.detectMultiScale(frame, 1.3, 5)\n",
    "\n",
    "    for (x,y,w,h) in faces:\n",
    "\n",
    "            if w > 80:\n",
    "                frame = cv2.rectangle(frame,(x,y),(x+w,y+h),(100,100,100),2) #draw rectangle to main image\n",
    "\n",
    "                detected_face = frame[int(y):int(y+h), int(x):int(x+w)] #crop detected face\n",
    "                detected_face = cv2.resize(detected_face, (224, 224)) #resize to 224x224\n",
    "                \n",
    "                img = img_to_array(detected_face)\n",
    "                img = np.expand_dims(img, axis=0)\n",
    "                img = preprocess_input(img)\n",
    "                \n",
    "                _, identity = recognition(img, Database, FRmodel)\n",
    "                \n",
    "                cv2.putText(frame, identity, (int(x+w+15), int(y-12)), cv2.FONT_HERSHEY_TRIPLEX, 1, (100,100,100), 2)\n",
    "                \n",
    "                #connect the text and face with a line\n",
    "                cv2.line(frame,(int((x+x+w)/2),y+15),(x+w,y-20),(100,100,100),1)\n",
    "                cv2.line(frame,(x+w,y-20),(x+w+10,y-20),(100,100,100),1)\n",
    "                \n",
    "        # Display the resulting frame\n",
    "    cv2.imshow('frame',frame)\n",
    "    if cv2.waitKey(1) & 0xFF == ord('q'):\n",
    "        break\n",
    "\n",
    "# When everything done, release the capture\n",
    "cap.release()\n",
    "cv2.destroyAllWindows()\n",
    "\n",
    "print(\"Press any key to exit\")\n",
    "input()"
   ]
  },
  {
   "cell_type": "code",
   "execution_count": null,
   "metadata": {},
   "outputs": [],
   "source": []
  }
 ],
 "metadata": {
  "kernelspec": {
   "display_name": "Python 3",
   "language": "python",
   "name": "python3"
  },
  "language_info": {
   "codemirror_mode": {
    "name": "ipython",
    "version": 3
   },
   "file_extension": ".py",
   "mimetype": "text/x-python",
   "name": "python",
   "nbconvert_exporter": "python",
   "pygments_lexer": "ipython3",
   "version": "3.6.3"
  }
 },
 "nbformat": 4,
 "nbformat_minor": 2
}
